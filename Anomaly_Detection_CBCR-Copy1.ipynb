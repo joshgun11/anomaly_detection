{
 "cells": [
  {
   "cell_type": "code",
   "execution_count": 1,
   "id": "3931611d",
   "metadata": {},
   "outputs": [],
   "source": [
    "import pandas as pd \n",
    "import os\n",
    "import matplotlib.pyplot as plt \n",
    "import seaborn as sns \n",
    "from sklearn.preprocessing import StandardScaler\n",
    "from sklearn.model_selection import train_test_split\n",
    "from sklearn.preprocessing import Normalizer, MinMaxScaler\n",
    "from sklearn.pipeline import Pipeline\n",
    "import tensorflow as tf\n"
   ]
  },
  {
   "cell_type": "markdown",
   "id": "e54b2fea",
   "metadata": {},
   "source": [
    "### Data Preparation and Feature Engineering "
   ]
  },
  {
   "cell_type": "code",
   "execution_count": 3,
   "id": "01f40052",
   "metadata": {},
   "outputs": [],
   "source": [
    "file_names = []\n",
    "for file in os.listdir():\n",
    "    file_names.append(file)\n",
    "    "
   ]
  },
  {
   "cell_type": "code",
   "execution_count": 4,
   "id": "ae15d7e3",
   "metadata": {},
   "outputs": [
    {
     "data": {
      "text/plain": [
       "228"
      ]
     },
     "execution_count": 4,
     "metadata": {},
     "output_type": "execute_result"
    }
   ],
   "source": [
    "len(file_names)"
   ]
  },
  {
   "cell_type": "code",
   "execution_count": 20,
   "id": "eb29ffb3",
   "metadata": {},
   "outputs": [],
   "source": [
    "df = merge_files()"
   ]
  },
  {
   "cell_type": "code",
   "execution_count": 21,
   "id": "359ae330",
   "metadata": {},
   "outputs": [
    {
     "data": {
      "text/plain": [
       "(1415048, 23)"
      ]
     },
     "execution_count": 21,
     "metadata": {},
     "output_type": "execute_result"
    }
   ],
   "source": [
    "df.shape"
   ]
  },
  {
   "cell_type": "code",
   "execution_count": 459,
   "id": "a46de65d",
   "metadata": {},
   "outputs": [],
   "source": [
    "df.dropna(inplace = True)"
   ]
  },
  {
   "cell_type": "code",
   "execution_count": 9,
   "id": "a0a88a0d",
   "metadata": {},
   "outputs": [
    {
     "data": {
      "text/plain": [
       "(1329135, 14)"
      ]
     },
     "execution_count": 9,
     "metadata": {},
     "output_type": "execute_result"
    }
   ],
   "source": [
    "df.shape"
   ]
  },
  {
   "cell_type": "code",
   "execution_count": 462,
   "id": "a7c8caf7",
   "metadata": {},
   "outputs": [
    {
     "data": {
      "text/plain": [
       "14"
      ]
     },
     "execution_count": 462,
     "metadata": {},
     "output_type": "execute_result"
    }
   ],
   "source": [
    "len(columns)"
   ]
  },
  {
   "cell_type": "code",
   "execution_count": 463,
   "id": "f394a5c9",
   "metadata": {},
   "outputs": [],
   "source": [
    "for column in columns[2:14]:\n",
    "    df.drop(df.loc[df[column]=='n.a.'].index, inplace=True)"
   ]
  },
  {
   "cell_type": "code",
   "execution_count": 464,
   "id": "7580a1b5",
   "metadata": {},
   "outputs": [
    {
     "data": {
      "text/plain": [
       "Country                                       object\n",
       "Operating revenue (Turnover)\\nth EUR 2017     object\n",
       "Operating revenue (Turnover)\\nth EUR 2018     object\n",
       "Operating revenue (Turnover)\\nth EUR 2019     object\n",
       "Operating revenue (Turnover)\\nth EUR 2020     object\n",
       "Operating P/L [=EBIT]\\nth EUR 2017            object\n",
       "Operating P/L [=EBIT]\\nth EUR 2018            object\n",
       "Operating P/L [=EBIT]\\nth EUR 2019            object\n",
       "Operating P/L [=EBIT]\\nth EUR 2020            object\n",
       "Number of employees\\n2020                     object\n",
       "Number of employees\\n2019                     object\n",
       "Number of employees\\n2018                     object\n",
       "Number of employees\\n2017                     object\n",
       "NACE Rev. 2, core code (4 digits)            float64\n",
       "dtype: object"
      ]
     },
     "execution_count": 464,
     "metadata": {},
     "output_type": "execute_result"
    }
   ],
   "source": [
    "df.dtypes"
   ]
  },
  {
   "cell_type": "code",
   "execution_count": 465,
   "id": "11632692",
   "metadata": {},
   "outputs": [],
   "source": [
    "df[columns[2:13]] = df[columns[2:13]].astype(str).astype(float)"
   ]
  },
  {
   "cell_type": "code",
   "execution_count": 467,
   "id": "9a6d5f6e",
   "metadata": {},
   "outputs": [],
   "source": [
    "df[columns[13]] = df[columns[13]].astype(str).astype(object)"
   ]
  },
  {
   "cell_type": "markdown",
   "id": "91771051",
   "metadata": {},
   "source": [
    "### Data preperation and Model building/Training/Predicting"
   ]
  },
  {
   "cell_type": "code",
   "execution_count": 309,
   "id": "ac50b92b",
   "metadata": {},
   "outputs": [],
   "source": [
    "model_data = df[columns[1:13]]"
   ]
  },
  {
   "cell_type": "code",
   "execution_count": 310,
   "id": "979a7ebd",
   "metadata": {},
   "outputs": [],
   "source": [
    "#model_data = pd.get_dummies(model_data, columns=[\"Country\"])"
   ]
  },
  {
   "cell_type": "code",
   "execution_count": 365,
   "id": "c8974222",
   "metadata": {},
   "outputs": [],
   "source": [
    "train_data,test_data = train_test_split(model_data,test_size = .5,random_state =43)\n",
    "X_train,X_validation = train_test_split(train_data,test_size = .3,random_state =43)train_data,test_data = train_test_split(model_data,test_size = .5,random_state =43)\n",
    "X_train,X_validation = train_test_split(train_data,test_size = .3,random_state =43)"
   ]
  },
  {
   "cell_type": "code",
   "execution_count": 380,
   "id": "8231540e",
   "metadata": {},
   "outputs": [],
   "source": [
    "pipeline = Pipeline([(\"normalizer\",Normalizer()),('scaler', MinMaxScaler())])"
   ]
  },
  {
   "cell_type": "code",
   "execution_count": 381,
   "id": "2e251750",
   "metadata": {},
   "outputs": [],
   "source": [
    "X_train_transformed = pipeline.fit_transform(X_train)\n",
    "X_validate_transformed = pipeline.transform(X_validation)"
   ]
  },
  {
   "cell_type": "code",
   "execution_count": 382,
   "id": "425ed69c",
   "metadata": {},
   "outputs": [
    {
     "name": "stdout",
     "output_type": "stream",
     "text": [
      "Model: \"sequential_8\"\n",
      "_________________________________________________________________\n",
      " Layer (type)                Output Shape              Param #   \n",
      "=================================================================\n",
      " dense_43 (Dense)            (None, 12)                156       \n",
      "                                                                 \n",
      " dense_44 (Dense)            (None, 32)                416       \n",
      "                                                                 \n",
      " dense_45 (Dense)            (None, 32)                1056      \n",
      "                                                                 \n",
      " dense_46 (Dense)            (None, 12)                396       \n",
      "                                                                 \n",
      "=================================================================\n",
      "Total params: 2,024\n",
      "Trainable params: 2,024\n",
      "Non-trainable params: 0\n",
      "_________________________________________________________________\n"
     ]
    }
   ],
   "source": [
    "#model\n",
    "\n",
    "# data dimensions // hyperparameters \n",
    "input_dim = X_train_transformed.shape[1]\n",
    "BATCH_SIZE = 512\n",
    "EPOCHS = 30\n",
    "\n",
    "# https://keras.io/layers/core/\n",
    "autoencoder = tf.keras.models.Sequential([\n",
    "    \n",
    "    # deconstruct / encode\n",
    "    tf.keras.layers.Dense(input_dim, activation='elu', input_shape=(input_dim, )), \n",
    "    tf.keras.layers.Dense(32, activation='elu')\n",
    " ,\n",
    "    \n",
    "    # reconstruction / decode\n",
    "\n",
    "    tf.keras.layers.Dense(32, activation='elu'),\n",
    "    tf.keras.layers.Dense(input_dim, activation='elu')\n",
    "    \n",
    "])\n",
    "\n",
    "# https://keras.io/api/models/model_training_apis/\n",
    "autoencoder.compile(optimizer=\"adam\", \n",
    "                    loss=\"mse\",\n",
    "                    metrics=[\"acc\"])\n",
    "\n",
    "# print an overview of our model\n",
    "autoencoder.summary();"
   ]
  },
  {
   "cell_type": "code",
   "execution_count": 383,
   "id": "32e7d9e5",
   "metadata": {},
   "outputs": [],
   "source": [
    "from datetime import datetime\n",
    "\n",
    "# current date and time\n",
    "yyyymmddHHMM = datetime.now().strftime('%Y%m%d%H%M')\n",
    "\n",
    "# new folder for a new run\n",
    "log_subdir = f'{yyyymmddHHMM}_batch{BATCH_SIZE}_layers{len(autoencoder.layers)}'\n",
    "\n",
    "# define our early stopping\n",
    "early_stop = tf.keras.callbacks.EarlyStopping(\n",
    "    monitor='val_loss',\n",
    "    min_delta=0.0001,\n",
    "    patience=10,\n",
    "    verbose=1, \n",
    "    mode='min',\n",
    "    restore_best_weights=True\n",
    ")\n",
    "\n",
    "save_model = tf.keras.callbacks.ModelCheckpoint(\n",
    "    filepath='autoencoder_best_weights.hdf5',\n",
    "    save_best_only=True,\n",
    "    monitor='val_loss',\n",
    "    verbose=0,\n",
    "    mode='min'\n",
    ")\n",
    "\n",
    "\n",
    "\n",
    "# callbacks argument only takes a list\n",
    "cb = [save_model]\n"
   ]
  },
  {
   "cell_type": "code",
   "execution_count": 384,
   "id": "f5382aa3",
   "metadata": {},
   "outputs": [
    {
     "name": "stdout",
     "output_type": "stream",
     "text": [
      "Epoch 1/30\n",
      "909/909 [==============================] - 2s 2ms/step - loss: 0.0080 - acc: 0.6882 - val_loss: 9.7958e-04 - val_acc: 0.8295\n",
      "Epoch 2/30\n",
      "909/909 [==============================] - 1s 1ms/step - loss: 5.9672e-04 - acc: 0.8912 - val_loss: 3.1166e-04 - val_acc: 0.9343\n",
      "Epoch 3/30\n",
      "909/909 [==============================] - 1s 1ms/step - loss: 1.6752e-04 - acc: 0.9431 - val_loss: 6.7562e-05 - val_acc: 0.9451\n",
      "Epoch 4/30\n",
      "909/909 [==============================] - 1s 1ms/step - loss: 3.3622e-05 - acc: 0.9497 - val_loss: 1.5099e-05 - val_acc: 0.9530\n",
      "Epoch 5/30\n",
      "909/909 [==============================] - 1s 1ms/step - loss: 1.2464e-05 - acc: 0.9536 - val_loss: 1.0453e-05 - val_acc: 0.9545\n",
      "Epoch 6/30\n",
      "909/909 [==============================] - 1s 1ms/step - loss: 9.9137e-06 - acc: 0.9549 - val_loss: 8.1590e-06 - val_acc: 0.9562\n",
      "Epoch 7/30\n",
      "909/909 [==============================] - 1s 1ms/step - loss: 8.3669e-06 - acc: 0.9557 - val_loss: 9.4579e-06 - val_acc: 0.9470\n",
      "Epoch 8/30\n",
      "909/909 [==============================] - 1s 1ms/step - loss: 7.1582e-06 - acc: 0.9560 - val_loss: 6.6810e-06 - val_acc: 0.9505\n",
      "Epoch 9/30\n",
      "909/909 [==============================] - 1s 1ms/step - loss: 6.2659e-06 - acc: 0.9562 - val_loss: 5.5994e-06 - val_acc: 0.9502\n",
      "Epoch 10/30\n",
      "909/909 [==============================] - 1s 1ms/step - loss: 5.5695e-06 - acc: 0.9568 - val_loss: 4.6610e-06 - val_acc: 0.9547\n",
      "Epoch 11/30\n",
      "909/909 [==============================] - 1s 1ms/step - loss: 4.8801e-06 - acc: 0.9577 - val_loss: 4.0260e-06 - val_acc: 0.9582\n",
      "Epoch 12/30\n",
      "909/909 [==============================] - 1s 1ms/step - loss: 4.3590e-06 - acc: 0.9594 - val_loss: 3.7611e-06 - val_acc: 0.9555\n",
      "Epoch 13/30\n",
      "909/909 [==============================] - 1s 1ms/step - loss: 3.9020e-06 - acc: 0.9598 - val_loss: 4.7058e-06 - val_acc: 0.9534\n",
      "Epoch 14/30\n",
      "909/909 [==============================] - 1s 1ms/step - loss: 3.4892e-06 - acc: 0.9616 - val_loss: 4.3174e-06 - val_acc: 0.9548\n",
      "Epoch 15/30\n",
      "909/909 [==============================] - 1s 2ms/step - loss: 3.1589e-06 - acc: 0.9628 - val_loss: 1.8939e-06 - val_acc: 0.9588\n",
      "Epoch 16/30\n",
      "909/909 [==============================] - 2s 2ms/step - loss: 2.9924e-06 - acc: 0.9628 - val_loss: 3.1642e-06 - val_acc: 0.9581\n",
      "Epoch 17/30\n",
      "909/909 [==============================] - 1s 1ms/step - loss: 2.7447e-06 - acc: 0.9625 - val_loss: 1.8033e-06 - val_acc: 0.9597\n",
      "Epoch 18/30\n",
      "909/909 [==============================] - 1s 1ms/step - loss: 2.6159e-06 - acc: 0.9626 - val_loss: 1.5638e-06 - val_acc: 0.9614\n",
      "Epoch 19/30\n",
      "909/909 [==============================] - 1s 1ms/step - loss: 2.4100e-06 - acc: 0.9623 - val_loss: 5.2574e-06 - val_acc: 0.9499\n",
      "Epoch 20/30\n",
      "909/909 [==============================] - 1s 1ms/step - loss: 2.3072e-06 - acc: 0.9627 - val_loss: 3.0006e-06 - val_acc: 0.9739\n",
      "Epoch 21/30\n",
      "909/909 [==============================] - 1s 1ms/step - loss: 2.2500e-06 - acc: 0.9622 - val_loss: 1.2575e-06 - val_acc: 0.9760\n",
      "Epoch 22/30\n",
      "909/909 [==============================] - 1s 1ms/step - loss: 2.0800e-06 - acc: 0.9621 - val_loss: 1.4397e-06 - val_acc: 0.9584\n",
      "Epoch 23/30\n",
      "909/909 [==============================] - 1s 1ms/step - loss: 2.0842e-06 - acc: 0.9613 - val_loss: 3.1058e-06 - val_acc: 0.9531\n",
      "Epoch 24/30\n",
      "909/909 [==============================] - 1s 1ms/step - loss: 1.9730e-06 - acc: 0.9620 - val_loss: 2.7160e-06 - val_acc: 0.9576\n",
      "Epoch 25/30\n",
      "909/909 [==============================] - 1s 1ms/step - loss: 1.8990e-06 - acc: 0.9625 - val_loss: 1.4018e-06 - val_acc: 0.9758\n",
      "Epoch 26/30\n",
      "909/909 [==============================] - 1s 1ms/step - loss: 1.8483e-06 - acc: 0.9619 - val_loss: 1.2901e-06 - val_acc: 0.9629\n",
      "Epoch 27/30\n",
      "909/909 [==============================] - 1s 1ms/step - loss: 1.8381e-06 - acc: 0.9625 - val_loss: 6.8382e-07 - val_acc: 0.9622\n",
      "Epoch 28/30\n",
      "909/909 [==============================] - 1s 1ms/step - loss: 1.7089e-06 - acc: 0.9623 - val_loss: 2.1577e-06 - val_acc: 0.9600\n",
      "Epoch 29/30\n",
      "909/909 [==============================] - 1s 1ms/step - loss: 1.7321e-06 - acc: 0.9625 - val_loss: 1.3867e-06 - val_acc: 0.9563\n",
      "Epoch 30/30\n",
      "909/909 [==============================] - 1s 1ms/step - loss: 1.6691e-06 - acc: 0.9630 - val_loss: 1.1458e-06 - val_acc: 0.9590\n"
     ]
    }
   ],
   "source": [
    "history = autoencoder.fit(\n",
    "    X_train_transformed, X_train_transformed,\n",
    "    shuffle=True,\n",
    "    epochs=30,\n",
    "    batch_size=BATCH_SIZE,\n",
    "    callbacks=cb,\n",
    "    validation_data=(X_validate_transformed, X_validate_transformed)\n",
    ");"
   ]
  },
  {
   "cell_type": "code",
   "execution_count": 385,
   "id": "fd9216fd",
   "metadata": {},
   "outputs": [
    {
     "data": {
      "image/png": "[encoded data removed]",
      "text/plain": [
       "<Figure size 432x288 with 1 Axes>"
      ]
     },
     "metadata": {
      "needs_background": "light"
     },
     "output_type": "display_data"
    },
    {
     "data": {
      "image/png": "[encoded data removed]",
      "text/plain": [
       "<Figure size 432x288 with 1 Axes>"
      ]
     },
     "metadata": {
      "needs_background": "light"
     },
     "output_type": "display_data"
    }
   ],
   "source": [
    "epochs = range(1, len(history.history['acc']) + 1)\n",
    "\n",
    "plt.plot(epochs, history.history['acc'], 'bo', label='Training acc')\n",
    "plt.plot(epochs, history.history['val_acc'], 'b', label='Validation acc')\n",
    "plt.title('Training and validation accuracy')\n",
    "plt.legend()\n",
    "\n",
    "plt.figure()\n",
    "\n",
    "plt.plot(epochs, history.history['loss'], 'bo', label='Training loss')\n",
    "plt.plot(epochs, history.history['val_loss'], 'b', label='Validation loss')\n",
    "plt.title('Training and validation loss')\n",
    "plt.legend()\n",
    "\n",
    "plt.show()"
   ]
  },
  {
   "cell_type": "code",
   "execution_count": 387,
   "id": "69a77111",
   "metadata": {},
   "outputs": [],
   "source": [
    "# pass the transformed test set through the autoencoder to get the reconstructed result\n",
    "test_data_scaled = pipeline.transform(test_data)\n",
    "reconstructions = autoencoder.predict(test_data_scaled)"
   ]
  },
  {
   "cell_type": "markdown",
   "id": "56da43cc",
   "metadata": {},
   "source": [
    "## Results "
   ]
  },
  {
   "cell_type": "code",
   "execution_count": 205,
   "id": "d6921eb5",
   "metadata": {},
   "outputs": [],
   "source": [
    "import numpy as np "
   ]
  },
  {
   "cell_type": "code",
   "execution_count": 388,
   "id": "e7281b93",
   "metadata": {},
   "outputs": [],
   "source": [
    "mse = np.mean(np.power(test_data_scaled - reconstructions, 2), axis=1)"
   ]
  },
  {
   "cell_type": "code",
   "execution_count": 389,
   "id": "aefb2b61",
   "metadata": {},
   "outputs": [
    {
     "data": {
      "text/plain": [
       "(array([1., 0., 0., 0.]),\n",
       " array([0, 1, 2, 3, 4]),\n",
       " <BarContainer object of 4 artists>)"
      ]
     },
     "execution_count": 389,
     "metadata": {},
     "output_type": "execute_result"
    },
    {
     "data": {
      "image/png": "[encoded data removed]",
      "text/plain": [
       "<Figure size 432x432 with 1 Axes>"
      ]
     },
     "metadata": {
      "needs_background": "light"
     },
     "output_type": "display_data"
    }
   ],
   "source": [
    "fig, ax = plt.subplots(figsize=(6,6))\n",
    "\n",
    "ax.hist(mse*1000, range(0,5), density=True, alpha=.6, color=\"green\")"
   ]
  },
  {
   "cell_type": "code",
   "execution_count": 390,
   "id": "2bea2eeb",
   "metadata": {},
   "outputs": [],
   "source": [
    "rec_df = pd.DataFrame(reconstructions)\n",
    "org_df = pd.DataFrame(test_data_scaled)"
   ]
  },
  {
   "cell_type": "code",
   "execution_count": 393,
   "id": "13c6e604",
   "metadata": {},
   "outputs": [],
   "source": [
    "compare = pd.DataFrame({\"predict\":rec_df[3],\"original\":org_df[3],\"x\":org_df[4]})"
   ]
  },
  {
   "cell_type": "code",
   "execution_count": 394,
   "id": "1b349105",
   "metadata": {},
   "outputs": [
    {
     "data": {
      "text/html": [
       "<div>\n",
       "<style scoped>\n",
       "    .dataframe tbody tr th:only-of-type {\n",
       "        vertical-align: middle;\n",
       "    }\n",
       "\n",
       "    .dataframe tbody tr th {\n",
       "        vertical-align: top;\n",
       "    }\n",
       "\n",
       "    .dataframe thead th {\n",
       "        text-align: right;\n",
       "    }\n",
       "</style>\n",
       "<table border=\"1\" class=\"dataframe\">\n",
       "  <thead>\n",
       "    <tr style=\"text-align: right;\">\n",
       "      <th></th>\n",
       "      <th>predict</th>\n",
       "      <th>original</th>\n",
       "      <th>x</th>\n",
       "    </tr>\n",
       "  </thead>\n",
       "  <tbody>\n",
       "    <tr>\n",
       "      <th>0</th>\n",
       "      <td>0.508511</td>\n",
       "      <td>0.507827</td>\n",
       "      <td>0.559645</td>\n",
       "    </tr>\n",
       "    <tr>\n",
       "      <th>1</th>\n",
       "      <td>0.617620</td>\n",
       "      <td>0.617900</td>\n",
       "      <td>0.551338</td>\n",
       "    </tr>\n",
       "    <tr>\n",
       "      <th>2</th>\n",
       "      <td>0.612636</td>\n",
       "      <td>0.612958</td>\n",
       "      <td>0.500000</td>\n",
       "    </tr>\n",
       "    <tr>\n",
       "      <th>3</th>\n",
       "      <td>0.551244</td>\n",
       "      <td>0.551507</td>\n",
       "      <td>0.446961</td>\n",
       "    </tr>\n",
       "    <tr>\n",
       "      <th>4</th>\n",
       "      <td>0.510205</td>\n",
       "      <td>0.510066</td>\n",
       "      <td>0.457662</td>\n",
       "    </tr>\n",
       "    <tr>\n",
       "      <th>...</th>\n",
       "      <td>...</td>\n",
       "      <td>...</td>\n",
       "      <td>...</td>\n",
       "    </tr>\n",
       "    <tr>\n",
       "      <th>664477</th>\n",
       "      <td>0.691563</td>\n",
       "      <td>0.691727</td>\n",
       "      <td>0.578239</td>\n",
       "    </tr>\n",
       "    <tr>\n",
       "      <th>664478</th>\n",
       "      <td>0.711687</td>\n",
       "      <td>0.711636</td>\n",
       "      <td>0.506106</td>\n",
       "    </tr>\n",
       "    <tr>\n",
       "      <th>664479</th>\n",
       "      <td>0.789618</td>\n",
       "      <td>0.789440</td>\n",
       "      <td>0.502301</td>\n",
       "    </tr>\n",
       "    <tr>\n",
       "      <th>664480</th>\n",
       "      <td>0.405120</td>\n",
       "      <td>0.404382</td>\n",
       "      <td>0.515190</td>\n",
       "    </tr>\n",
       "    <tr>\n",
       "      <th>664481</th>\n",
       "      <td>0.386990</td>\n",
       "      <td>0.388950</td>\n",
       "      <td>0.500000</td>\n",
       "    </tr>\n",
       "  </tbody>\n",
       "</table>\n",
       "<p>664482 rows × 3 columns</p>\n",
       "</div>"
      ],
      "text/plain": [
       "         predict  original         x\n",
       "0       0.508511  0.507827  0.559645\n",
       "1       0.617620  0.617900  0.551338\n",
       "2       0.612636  0.612958  0.500000\n",
       "3       0.551244  0.551507  0.446961\n",
       "4       0.510205  0.510066  0.457662\n",
       "...          ...       ...       ...\n",
       "664477  0.691563  0.691727  0.578239\n",
       "664478  0.711687  0.711636  0.506106\n",
       "664479  0.789618  0.789440  0.502301\n",
       "664480  0.405120  0.404382  0.515190\n",
       "664481  0.386990  0.388950  0.500000\n",
       "\n",
       "[664482 rows x 3 columns]"
      ]
     },
     "execution_count": 394,
     "metadata": {},
     "output_type": "execute_result"
    }
   ],
   "source": [
    "compare"
   ]
  },
  {
   "cell_type": "code",
   "execution_count": 395,
   "id": "b7fabdf1",
   "metadata": {},
   "outputs": [
    {
     "data": {
      "image/png": "[encoded data removed]",
      "text/plain": [
       "<Figure size 720x720 with 1 Axes>"
      ]
     },
     "metadata": {
      "needs_background": "light"
     },
     "output_type": "display_data"
    }
   ],
   "source": [
    "plt.figure(figsize=(10,10))\n",
    "plt.scatter(compare.original,compare.predict, c='crimson')\n",
    "\n",
    "p1 = max(max(compare.predict), max(compare.original))\n",
    "p2 = min(min(compare.predict), min(compare.original))\n",
    "plt.plot([p1, p2], [p1, p2], 'b-')\n",
    "plt.xlabel('True Values', fontsize=15)\n",
    "plt.ylabel('Predictions', fontsize=15)\n",
    "plt.axis('equal')\n",
    "plt.show()"
   ]
  },
  {
   "cell_type": "code",
   "execution_count": 396,
   "id": "5063c8e5",
   "metadata": {},
   "outputs": [
    {
     "data": {
      "image/png": "[encoded data removed]",
      "text/plain": [
       "<Figure size 432x288 with 1 Axes>"
      ]
     },
     "metadata": {
      "needs_background": "light"
     },
     "output_type": "display_data"
    }
   ],
   "source": [
    "compare[:50].plot(x=\"x\", y=[\"original\", \"predict\"])\n",
    "plt.show()"
   ]
  },
  {
   "cell_type": "code",
   "execution_count": 397,
   "id": "f11f8b9f",
   "metadata": {},
   "outputs": [],
   "source": [
    "\n",
    "def mad_score(points):\n",
    "    m = np.median(points)\n",
    "    ad = np.abs(points - m)\n",
    "    mad = np.median(ad)\n",
    "    \n",
    "    return 0.6745 * ad / mad\n",
    "\n",
    "z_scores = mad_score(mse)"
   ]
  },
  {
   "cell_type": "code",
   "execution_count": 398,
   "id": "f5384589",
   "metadata": {},
   "outputs": [
    {
     "data": {
      "text/plain": [
       "(array([6.69326512e-01, 1.60738394e-01, 4.11752447e-02, 2.37226553e-02,\n",
       "        1.60753495e-02, 2.24752867e-02, 9.02152541e-03, 7.40719487e-03,\n",
       "        6.14925535e-03, 5.45459488e-03, 4.22987825e-03, 3.78891986e-03,\n",
       "        3.10936070e-03, 2.80733441e-03, 2.66236179e-03, 2.01451538e-03,\n",
       "        1.78044501e-03, 1.47539845e-03, 1.30777385e-03, 1.16129110e-03,\n",
       "        1.42405398e-03, 9.74034799e-04, 7.98859549e-04, 9.77055062e-04,\n",
       "        7.44494816e-04, 6.59927453e-04, 7.36944158e-04, 6.22174166e-04,\n",
       "        5.05894043e-04, 5.33076410e-04, 3.92634183e-04, 4.37938127e-04,\n",
       "        3.53370764e-04, 3.50350502e-04, 3.48840370e-04, 3.11087083e-04,\n",
       "        3.05046557e-04, 2.71823665e-04, 2.40110904e-04, 2.28029852e-04,\n",
       "        2.43131167e-04, 2.55212219e-04, 2.28029852e-04, 2.82394585e-04,\n",
       "        1.96317091e-04, 5.60258776e-04, 1.99337354e-04, 1.66114462e-04,\n",
       "        1.38932095e-04, 1.37421964e-04, 1.44972621e-04, 1.34401701e-04,\n",
       "        1.01178809e-04, 1.13259860e-04]),\n",
       " array([ 0,  1,  2,  3,  4,  5,  6,  7,  8,  9, 10, 11, 12, 13, 14, 15, 16,\n",
       "        17, 18, 19, 20, 21, 22, 23, 24, 25, 26, 27, 28, 29, 30, 31, 32, 33,\n",
       "        34, 35, 36, 37, 38, 39, 40, 41, 42, 43, 44, 45, 46, 47, 48, 49, 50,\n",
       "        51, 52, 53, 54]),\n",
       " <BarContainer object of 54 artists>)"
      ]
     },
     "execution_count": 398,
     "metadata": {},
     "output_type": "execute_result"
    },
    {
     "data": {
      "image/png": "[encoded data removed]",
      "text/plain": [
       "<Figure size 720x720 with 1 Axes>"
      ]
     },
     "metadata": {
      "needs_background": "light"
     },
     "output_type": "display_data"
    }
   ],
   "source": [
    "fig, ax = plt.subplots(figsize=(10,10))\n",
    "\n",
    "ax.hist(z_scores,range(0,55),density=True, alpha=.6, color=\"green\")"
   ]
  },
  {
   "cell_type": "code",
   "execution_count": 399,
   "id": "8abe8c00",
   "metadata": {},
   "outputs": [
    {
     "name": "stdout",
     "output_type": "stream",
     "text": [
      "1.2704462049299772e-06\n",
      "1541.918803455344\n",
      "2.263442577846537\n",
      "29.175187503189115\n"
     ]
    }
   ],
   "source": [
    "print(min(z_scores))\n",
    "print(max(z_scores))\n",
    "print(np.mean(z_scores))\n",
    "print(np.quantile(z_scores, .99))"
   ]
  },
  {
   "cell_type": "code",
   "execution_count": 400,
   "id": "4553a9bb",
   "metadata": {},
   "outputs": [
    {
     "data": {
      "image/png": "[encoded data removed]",
      "text/plain": [
       "<Figure size 432x288 with 1 Axes>"
      ]
     },
     "metadata": {
      "needs_background": "light"
     },
     "output_type": "display_data"
    }
   ],
   "source": [
    "import seaborn as sns \n",
    "array = list(range(len(z_scores)))\n",
    "sns.scatterplot(x = array,y = z_scores)\n",
    "plt.ticklabel_format(style='plain', axis='y',useOffset=False)\n",
    "plt.ticklabel_format(style='plain', axis='x',useOffset=False)"
   ]
  },
  {
   "cell_type": "code",
   "execution_count": 401,
   "id": "b43516da",
   "metadata": {},
   "outputs": [
    {
     "data": {
      "text/plain": [
       "0.02633630406843225"
      ]
     },
     "execution_count": 401,
     "metadata": {},
     "output_type": "execute_result"
    }
   ],
   "source": [
    "outliers = z_scores > 200\n",
    "clean = mse[outliers==False]\n",
    "fraud = mse[outliers==True]\n",
    "\n",
    "len(fraud)/len(mse)*100"
   ]
  },
  {
   "cell_type": "code",
   "execution_count": 402,
   "id": "675afa53",
   "metadata": {},
   "outputs": [],
   "source": [
    "label = []\n",
    "\n",
    "\n",
    "for i in outliers:\n",
    "    if i == True:\n",
    "        label.append(1)\n",
    "    else:\n",
    "        label.append(0)"
   ]
  },
  {
   "cell_type": "code",
   "execution_count": 403,
   "id": "8ffb5a5f",
   "metadata": {},
   "outputs": [],
   "source": [
    "org_df[\"Label\"] = label"
   ]
  },
  {
   "cell_type": "code",
   "execution_count": 404,
   "id": "b88bb71b",
   "metadata": {},
   "outputs": [],
   "source": [
    "rec_df[\"z-score\"] = z_scores"
   ]
  },
  {
   "cell_type": "code",
   "execution_count": 406,
   "id": "a90be360",
   "metadata": {},
   "outputs": [],
   "source": [
    "rec_df[\"Label\"] = label"
   ]
  },
  {
   "cell_type": "code",
   "execution_count": 407,
   "id": "b32273aa",
   "metadata": {},
   "outputs": [
    {
     "data": {
      "text/plain": [
       "<AxesSubplot:xlabel='1', ylabel='1'>"
      ]
     },
     "execution_count": 407,
     "metadata": {},
     "output_type": "execute_result"
    },
    {
     "data": {
      "image/png": "[encoded data removed]",
      "text/plain": [
       "<Figure size 432x288 with 1 Axes>"
      ]
     },
     "metadata": {
      "needs_background": "light"
     },
     "output_type": "display_data"
    }
   ],
   "source": [
    "sns.scatterplot(x = org_df[1],y = rec_df[1],hue =rec_df[\"Label\"],size=rec_df[\"Label\"],sizes=(20, 2))"
   ]
  },
  {
   "cell_type": "code",
   "execution_count": 408,
   "id": "551d4557",
   "metadata": {},
   "outputs": [
    {
     "data": {
      "image/png": "[encoded data removed]",
      "text/plain": [
       "<Figure size 432x288 with 1 Axes>"
      ]
     },
     "metadata": {
      "needs_background": "light"
     },
     "output_type": "display_data"
    }
   ],
   "source": [
    "outlier = list(rec_df.loc[rec_df[\"Label\"]==1][\"z-score\"])\n",
    "normal = list(rec_df.loc[rec_df[\"Label\"]==0][\"z-score\"])\n",
    "plt.plot(outlier,'g*', normal, 'ro')\n",
    "plt.show()"
   ]
  },
  {
   "cell_type": "code",
   "execution_count": 409,
   "id": "c6f6a47f",
   "metadata": {},
   "outputs": [],
   "source": [
    "array = list(range(len(rec_df[\"z-score\"])))"
   ]
  },
  {
   "cell_type": "code",
   "execution_count": 410,
   "id": "11f8b7a7",
   "metadata": {},
   "outputs": [
    {
     "data": {
      "image/png": "[encoded data removed]",
      "text/plain": [
       "<Figure size 432x288 with 1 Axes>"
      ]
     },
     "metadata": {
      "needs_background": "light"
     },
     "output_type": "display_data"
    }
   ],
   "source": [
    "sns.scatterplot(x = array,y = z_scores,hue = rec_df[\"Label\"])\n",
    "plt.ticklabel_format(style='plain', axis='y',useOffset=False)\n",
    "plt.ticklabel_format(style='plain', axis='x',useOffset=False)"
   ]
  },
  {
   "cell_type": "code",
   "execution_count": 412,
   "id": "a175a8d4",
   "metadata": {},
   "outputs": [],
   "source": [
    "pca_data = rec_df[org_df.columns[:12]]"
   ]
  },
  {
   "cell_type": "code",
   "execution_count": 413,
   "id": "d62018f3",
   "metadata": {},
   "outputs": [],
   "source": [
    "scaler = StandardScaler() \n",
    "pca_data = scaler.fit_transform(pca_data)"
   ]
  },
  {
   "cell_type": "code",
   "execution_count": 414,
   "id": "16bb16da",
   "metadata": {},
   "outputs": [
    {
     "data": {
      "text/html": [
       "<div>\n",
       "<style scoped>\n",
       "    .dataframe tbody tr th:only-of-type {\n",
       "        vertical-align: middle;\n",
       "    }\n",
       "\n",
       "    .dataframe tbody tr th {\n",
       "        vertical-align: top;\n",
       "    }\n",
       "\n",
       "    .dataframe thead th {\n",
       "        text-align: right;\n",
       "    }\n",
       "</style>\n",
       "<table border=\"1\" class=\"dataframe\">\n",
       "  <thead>\n",
       "    <tr style=\"text-align: right;\">\n",
       "      <th></th>\n",
       "      <th>principal component 1</th>\n",
       "      <th>principal component 2</th>\n",
       "      <th>Label</th>\n",
       "    </tr>\n",
       "  </thead>\n",
       "  <tbody>\n",
       "    <tr>\n",
       "      <th>0</th>\n",
       "      <td>-0.137728</td>\n",
       "      <td>1.814691</td>\n",
       "      <td>0</td>\n",
       "    </tr>\n",
       "    <tr>\n",
       "      <th>1</th>\n",
       "      <td>-0.034753</td>\n",
       "      <td>-0.354952</td>\n",
       "      <td>0</td>\n",
       "    </tr>\n",
       "    <tr>\n",
       "      <th>2</th>\n",
       "      <td>1.447167</td>\n",
       "      <td>-1.000076</td>\n",
       "      <td>0</td>\n",
       "    </tr>\n",
       "    <tr>\n",
       "      <th>3</th>\n",
       "      <td>0.827660</td>\n",
       "      <td>0.373653</td>\n",
       "      <td>0</td>\n",
       "    </tr>\n",
       "    <tr>\n",
       "      <th>4</th>\n",
       "      <td>-0.863493</td>\n",
       "      <td>0.126416</td>\n",
       "      <td>0</td>\n",
       "    </tr>\n",
       "  </tbody>\n",
       "</table>\n",
       "</div>"
      ],
      "text/plain": [
       "   principal component 1  principal component 2  Label\n",
       "0              -0.137728               1.814691      0\n",
       "1              -0.034753              -0.354952      0\n",
       "2               1.447167              -1.000076      0\n",
       "3               0.827660               0.373653      0\n",
       "4              -0.863493               0.126416      0"
      ]
     },
     "execution_count": 414,
     "metadata": {},
     "output_type": "execute_result"
    }
   ],
   "source": [
    "from sklearn.decomposition import PCA\n",
    "pca = PCA(n_components=2)\n",
    "\n",
    "principalComponents = pca.fit_transform(pca_data)\n",
    "principalDf = pd.DataFrame(data = principalComponents\n",
    "             , columns = ['principal component 1', 'principal component 2'])\n",
    "finalDf = pd.concat([principalDf, org_df[org_df.columns[12]]], axis = 1)\n",
    "finalDf.head()"
   ]
  },
  {
   "cell_type": "code",
   "execution_count": 415,
   "id": "5b144fe4",
   "metadata": {},
   "outputs": [
    {
     "data": {
      "text/plain": [
       "0    664307\n",
       "1       175\n",
       "Name: Label, dtype: int64"
      ]
     },
     "execution_count": 415,
     "metadata": {},
     "output_type": "execute_result"
    }
   ],
   "source": [
    "finalDf[\"Label\"].value_counts()"
   ]
  },
  {
   "cell_type": "code",
   "execution_count": 416,
   "id": "dc7e58f9",
   "metadata": {},
   "outputs": [
    {
     "data": {
      "text/plain": [
       "(664482, 13)"
      ]
     },
     "execution_count": 416,
     "metadata": {},
     "output_type": "execute_result"
    }
   ],
   "source": [
    "org_df.shape"
   ]
  },
  {
   "cell_type": "code",
   "execution_count": 417,
   "id": "9b1e021e",
   "metadata": {},
   "outputs": [
    {
     "data": {
      "image/png": "[encoded data removed]",
      "text/plain": [
       "<Figure size 576x576 with 1 Axes>"
      ]
     },
     "metadata": {
      "needs_background": "light"
     },
     "output_type": "display_data"
    }
   ],
   "source": [
    "fig = plt.figure(figsize = (8,8))\n",
    "ax = fig.add_subplot(1,1,1) \n",
    "ax.set_xlabel('Principal Component 1', fontsize = 15)\n",
    "ax.set_ylabel('Principal Component 2', fontsize = 15)\n",
    "ax.set_title('2 component PCA', fontsize = 20)\n",
    "targets = [0, 1]\n",
    "colors = ['g', 'r']\n",
    "for target, color in zip(targets,colors):\n",
    "    indicesToKeep = finalDf['Label'] == target\n",
    "    ax.scatter(finalDf.loc[indicesToKeep, 'principal component 1']\n",
    "               , finalDf.loc[indicesToKeep, 'principal component 2']\n",
    "               , c = color\n",
    "               , s = 50)\n",
    "ax.legend(targets)\n",
    "ax.grid()"
   ]
  },
  {
   "cell_type": "markdown",
   "id": "11b8e210",
   "metadata": {},
   "source": [
    "##  Autoencoder method with Pyod library "
   ]
  },
  {
   "cell_type": "code",
   "execution_count": 263,
   "id": "4f5ac8c6",
   "metadata": {},
   "outputs": [],
   "source": [
    "from pyod.models.knn import KNN\n",
    "from pyod.models.auto_encoder import AutoEncoder"
   ]
  },
  {
   "cell_type": "code",
   "execution_count": 418,
   "id": "122aa89b",
   "metadata": {},
   "outputs": [],
   "source": [
    "X_train_pyod,X_test_pyod = train_test_split(model_data,test_size = .50,random_state =43)"
   ]
  },
  {
   "cell_type": "code",
   "execution_count": 436,
   "id": "1b2f5ff1",
   "metadata": {},
   "outputs": [],
   "source": [
    "from sklearn.preprocessing import StandardScaler\n",
    "scaler = StandardScaler()\n",
    "scaler.fit(X_train_pyod)    # Only the training data are used to fit the scaler transformation,\n",
    "X_train_scaled = scaler.transform(X_train_pyod) \n",
    "X_test_scaled = scaler.transform(X_test_pyod)  # then the scaler is used to transform the test input data.\n",
    "X_train_scaled = pd.DataFrame(X_train_scaled)\n",
    "X_test_scaled = pd.DataFrame(X_test_scaled)"
   ]
  },
  {
   "cell_type": "code",
   "execution_count": 437,
   "id": "f7399a80",
   "metadata": {},
   "outputs": [
    {
     "data": {
      "text/plain": [
       "(664482, 12)"
      ]
     },
     "execution_count": 437,
     "metadata": {},
     "output_type": "execute_result"
    }
   ],
   "source": [
    "X_test_scaled.shape"
   ]
  },
  {
   "cell_type": "code",
   "execution_count": 438,
   "id": "fe6766c7",
   "metadata": {},
   "outputs": [
    {
     "data": {
      "image/png": "[encoded data removed]",
      "text/plain": [
       "<Figure size 432x288 with 1 Axes>"
      ]
     },
     "metadata": {
      "needs_background": "light"
     },
     "output_type": "display_data"
    }
   ],
   "source": [
    "from sklearn.decomposition import PCA\n",
    "pca = PCA(2)\n",
    "x_pca = pca.fit_transform(X_train_scaled)\n",
    "x_pca = pd.DataFrame(x_pca)\n",
    "x_pca.columns=['PC1','PC2']\n",
    "x_pca.head()\n",
    "\n",
    "# Plot\n",
    "import matplotlib.pyplot as plt\n",
    "plt.scatter(x_pca[\"PC1\"], x_pca[\"PC2\"], alpha=0.8) \n",
    "plt.title('Scatter plot')\n",
    "plt.xlabel('PC1')\n",
    "plt.ylabel('PC2')\n",
    "plt.show()"
   ]
  },
  {
   "cell_type": "code",
   "execution_count": 439,
   "id": "b51815d9",
   "metadata": {},
   "outputs": [
    {
     "name": "stdout",
     "output_type": "stream",
     "text": [
      "Model: \"sequential_10\"\n",
      "_________________________________________________________________\n",
      " Layer (type)                Output Shape              Param #   \n",
      "=================================================================\n",
      " dense_54 (Dense)            (None, 12)                156       \n",
      "                                                                 \n",
      " dropout_18 (Dropout)        (None, 12)                0         \n",
      "                                                                 \n",
      " dense_55 (Dense)            (None, 12)                156       \n",
      "                                                                 \n",
      " dropout_19 (Dropout)        (None, 12)                0         \n",
      "                                                                 \n",
      " dense_56 (Dense)            (None, 25)                325       \n",
      "                                                                 \n",
      " dropout_20 (Dropout)        (None, 25)                0         \n",
      "                                                                 \n",
      " dense_57 (Dense)            (None, 2)                 52        \n",
      "                                                                 \n",
      " dropout_21 (Dropout)        (None, 2)                 0         \n",
      "                                                                 \n",
      " dense_58 (Dense)            (None, 2)                 6         \n",
      "                                                                 \n",
      " dropout_22 (Dropout)        (None, 2)                 0         \n",
      "                                                                 \n",
      " dense_59 (Dense)            (None, 25)                75        \n",
      "                                                                 \n",
      " dropout_23 (Dropout)        (None, 25)                0         \n",
      "                                                                 \n",
      " dense_60 (Dense)            (None, 12)                312       \n",
      "                                                                 \n",
      "=================================================================\n",
      "Total params: 1,082\n",
      "Trainable params: 1,082\n",
      "Non-trainable params: 0\n",
      "_________________________________________________________________\n",
      "None\n",
      "Epoch 1/30\n",
      "909/909 [==============================] - 2s 2ms/step - loss: 1.3991 - val_loss: 0.7333\n",
      "Epoch 2/30\n",
      "909/909 [==============================] - 1s 2ms/step - loss: 1.2276 - val_loss: 0.6906\n",
      "Epoch 3/30\n",
      "909/909 [==============================] - 2s 2ms/step - loss: 1.1997 - val_loss: 0.6728\n",
      "Epoch 4/30\n",
      "909/909 [==============================] - 1s 2ms/step - loss: 1.1841 - val_loss: 0.6627\n",
      "Epoch 5/30\n",
      "909/909 [==============================] - 1s 2ms/step - loss: 1.1743 - val_loss: 0.6562\n",
      "Epoch 6/30\n",
      "909/909 [==============================] - 2s 2ms/step - loss: 1.1678 - val_loss: 0.6517\n",
      "Epoch 7/30\n",
      "909/909 [==============================] - 2s 2ms/step - loss: 1.1632 - val_loss: 0.6485\n",
      "Epoch 8/30\n",
      "909/909 [==============================] - 1s 2ms/step - loss: 1.1598 - val_loss: 0.6464\n",
      "Epoch 9/30\n",
      "909/909 [==============================] - 1s 2ms/step - loss: 1.1575 - val_loss: 0.6449\n",
      "Epoch 10/30\n",
      "909/909 [==============================] - 1s 2ms/step - loss: 1.1559 - val_loss: 0.6439\n",
      "Epoch 11/30\n",
      "909/909 [==============================] - 2s 2ms/step - loss: 1.1549 - val_loss: 0.6433\n",
      "Epoch 12/30\n",
      "909/909 [==============================] - 1s 2ms/step - loss: 1.1543 - val_loss: 0.6429\n",
      "Epoch 13/30\n",
      "909/909 [==============================] - 2s 2ms/step - loss: 1.1539 - val_loss: 0.6426\n",
      "Epoch 14/30\n",
      "909/909 [==============================] - 2s 2ms/step - loss: 1.1537 - val_loss: 0.6425\n",
      "Epoch 15/30\n",
      "909/909 [==============================] - 1s 2ms/step - loss: 1.1536 - val_loss: 0.6423\n",
      "Epoch 16/30\n",
      "909/909 [==============================] - 1s 2ms/step - loss: 1.1535 - val_loss: 0.6423\n",
      "Epoch 17/30\n",
      "909/909 [==============================] - 1s 2ms/step - loss: 1.1535 - val_loss: 0.6422\n",
      "Epoch 18/30\n",
      "909/909 [==============================] - 2s 2ms/step - loss: 1.1535 - val_loss: 0.6422\n",
      "Epoch 19/30\n",
      "909/909 [==============================] - 2s 2ms/step - loss: 1.1534 - val_loss: 0.6422\n",
      "Epoch 20/30\n",
      "909/909 [==============================] - 1s 2ms/step - loss: 1.1534 - val_loss: 0.6422\n",
      "Epoch 21/30\n",
      "909/909 [==============================] - 1s 2ms/step - loss: 1.1534 - val_loss: 0.6422\n",
      "Epoch 22/30\n",
      "909/909 [==============================] - 1s 2ms/step - loss: 1.1534 - val_loss: 0.6422\n",
      "Epoch 23/30\n",
      "909/909 [==============================] - 2s 2ms/step - loss: 1.1534 - val_loss: 0.6422\n",
      "Epoch 24/30\n",
      "909/909 [==============================] - 1s 2ms/step - loss: 1.1534 - val_loss: 0.6422\n",
      "Epoch 25/30\n",
      "909/909 [==============================] - 1s 2ms/step - loss: 1.1534 - val_loss: 0.6422\n",
      "Epoch 26/30\n",
      "909/909 [==============================] - 1s 2ms/step - loss: 1.1534 - val_loss: 0.6422\n",
      "Epoch 27/30\n",
      "909/909 [==============================] - 1s 2ms/step - loss: 1.1534 - val_loss: 0.6422\n",
      "Epoch 28/30\n",
      "909/909 [==============================] - 2s 2ms/step - loss: 1.1534 - val_loss: 0.6422\n",
      "Epoch 29/30\n",
      "909/909 [==============================] - 2s 2ms/step - loss: 1.1534 - val_loss: 0.6422\n",
      "Epoch 30/30\n",
      "909/909 [==============================] - 2s 2ms/step - loss: 1.1534 - val_loss: 0.6422\n"
     ]
    },
    {
     "data": {
      "text/plain": [
       "AutoEncoder(batch_size=512, contamination=0.1, dropout_rate=0.2, epochs=30,\n",
       "      hidden_activation='relu', hidden_neurons=[25, 2, 2, 25],\n",
       "      l2_regularizer=0.1,\n",
       "      loss=<function mean_squared_error at 0x7fe66a04eee0>,\n",
       "      optimizer='adam', output_activation='sigmoid', preprocessing=False,\n",
       "      random_state=43, validation_size=0.3, verbose=1)"
      ]
     },
     "execution_count": 439,
     "metadata": {},
     "output_type": "execute_result"
    }
   ],
   "source": [
    "clf1 = AutoEncoder(hidden_neurons =[25, 2, 2, 25],epochs=30,batch_size=512, validation_size=0.3,\n",
    "                   preprocessing=False,random_state=43)\n",
    "clf1.fit(X_train_scaled)"
   ]
  },
  {
   "cell_type": "code",
   "execution_count": 440,
   "id": "6ed6020a",
   "metadata": {},
   "outputs": [],
   "source": [
    "y_train_scores = clf1.decision_scores_  # raw outlier scores\n",
    "\n",
    "# get the prediction on the test data\n",
    "y_test_pred = clf1.predict(X_test_scaled)  # outlier labels (0 or 1)\n",
    "# clf.decision_function: Predict raw anomaly score of X using the fitted detector.\n",
    "y_test_scores = clf1.decision_function(X_test_scaled)  # outlier scores\n",
    "\n",
    "y_test_pred = pd.Series(y_test_pred)\n",
    "y_test_scores = pd.Series(y_test_scores)"
   ]
  },
  {
   "cell_type": "code",
   "execution_count": null,
   "id": "fa8be77f",
   "metadata": {},
   "outputs": [],
   "source": [
    "\n",
    "plt.hist(y_test_scores, bins='auto')  # arguments are passed to np.histogram\n",
    "plt.title(\"Histogram for Model Clf1 Anomaly Scores\")\n",
    "plt.show()"
   ]
  },
  {
   "cell_type": "code",
   "execution_count": 441,
   "id": "493ae3b5",
   "metadata": {},
   "outputs": [
    {
     "data": {
      "image/png": "[encoded data removed]",
      "text/plain": [
       "<Figure size 432x288 with 1 Axes>"
      ]
     },
     "metadata": {
      "needs_background": "light"
     },
     "output_type": "display_data"
    }
   ],
   "source": [
    "array = list(range(len(y_test_scores)))\n",
    "sns.scatterplot(x = array,y = y_test_scores)\n",
    "plt.ticklabel_format(style='plain', axis='y',useOffset=False)\n",
    "plt.ticklabel_format(style='plain', axis='x',useOffset=False)"
   ]
  },
  {
   "cell_type": "code",
   "execution_count": 363,
   "id": "c539d2aa",
   "metadata": {},
   "outputs": [
    {
     "data": {
      "text/plain": [
       "(664482, 14)"
      ]
     },
     "execution_count": 363,
     "metadata": {},
     "output_type": "execute_result"
    }
   ],
   "source": [
    "df_test.shape"
   ]
  },
  {
   "cell_type": "code",
   "execution_count": 442,
   "id": "14f17c33",
   "metadata": {},
   "outputs": [
    {
     "data": {
      "text/html": [
       "<div>\n",
       "<style scoped>\n",
       "    .dataframe tbody tr th:only-of-type {\n",
       "        vertical-align: middle;\n",
       "    }\n",
       "\n",
       "    .dataframe tbody tr th {\n",
       "        vertical-align: top;\n",
       "    }\n",
       "\n",
       "    .dataframe thead th {\n",
       "        text-align: right;\n",
       "    }\n",
       "</style>\n",
       "<table border=\"1\" class=\"dataframe\">\n",
       "  <thead>\n",
       "    <tr style=\"text-align: right;\">\n",
       "      <th></th>\n",
       "      <th>0</th>\n",
       "      <th>1</th>\n",
       "      <th>2</th>\n",
       "      <th>3</th>\n",
       "      <th>4</th>\n",
       "      <th>5</th>\n",
       "      <th>6</th>\n",
       "      <th>7</th>\n",
       "      <th>8</th>\n",
       "      <th>9</th>\n",
       "      <th>10</th>\n",
       "      <th>11</th>\n",
       "      <th>score</th>\n",
       "    </tr>\n",
       "    <tr>\n",
       "      <th>cluster</th>\n",
       "      <th></th>\n",
       "      <th></th>\n",
       "      <th></th>\n",
       "      <th></th>\n",
       "      <th></th>\n",
       "      <th></th>\n",
       "      <th></th>\n",
       "      <th></th>\n",
       "      <th></th>\n",
       "      <th></th>\n",
       "      <th></th>\n",
       "      <th></th>\n",
       "      <th></th>\n",
       "    </tr>\n",
       "  </thead>\n",
       "  <tbody>\n",
       "    <tr>\n",
       "      <th>0</th>\n",
       "      <td>-0.003084</td>\n",
       "      <td>-0.002609</td>\n",
       "      <td>-0.002692</td>\n",
       "      <td>-0.003390</td>\n",
       "      <td>-0.001341</td>\n",
       "      <td>-0.001523</td>\n",
       "      <td>-0.001474</td>\n",
       "      <td>-0.001730</td>\n",
       "      <td>-0.002403</td>\n",
       "      <td>-0.002611</td>\n",
       "      <td>-0.003031</td>\n",
       "      <td>-0.002292</td>\n",
       "      <td>0.713691</td>\n",
       "    </tr>\n",
       "    <tr>\n",
       "      <th>1</th>\n",
       "      <td>38.556635</td>\n",
       "      <td>45.845095</td>\n",
       "      <td>43.759932</td>\n",
       "      <td>36.790207</td>\n",
       "      <td>1.179969</td>\n",
       "      <td>6.021382</td>\n",
       "      <td>1.372805</td>\n",
       "      <td>1.297815</td>\n",
       "      <td>56.880489</td>\n",
       "      <td>48.051975</td>\n",
       "      <td>47.912129</td>\n",
       "      <td>101.259591</td>\n",
       "      <td>235.527235</td>\n",
       "    </tr>\n",
       "  </tbody>\n",
       "</table>\n",
       "</div>"
      ],
      "text/plain": [
       "                 0          1          2          3         4         5  \\\n",
       "cluster                                                                   \n",
       "0        -0.003084  -0.002609  -0.002692  -0.003390 -0.001341 -0.001523   \n",
       "1        38.556635  45.845095  43.759932  36.790207  1.179969  6.021382   \n",
       "\n",
       "                6         7          8          9         10          11  \\\n",
       "cluster                                                                    \n",
       "0       -0.001474 -0.001730  -0.002403  -0.002611  -0.003031   -0.002292   \n",
       "1        1.372805  1.297815  56.880489  48.051975  47.912129  101.259591   \n",
       "\n",
       "              score  \n",
       "cluster              \n",
       "0          0.713691  \n",
       "1        235.527235  "
      ]
     },
     "execution_count": 442,
     "metadata": {},
     "output_type": "execute_result"
    }
   ],
   "source": [
    "df_test = X_test_scaled.copy()\n",
    "df_test['score'] = y_test_scores\n",
    "df_test['cluster'] = np.where(df_test['score']<125, 0, 1)\n",
    "df_test['cluster'].value_counts()\n",
    "\n",
    "df_test.groupby('cluster').mean()"
   ]
  },
  {
   "cell_type": "code",
   "execution_count": 443,
   "id": "708037eb",
   "metadata": {},
   "outputs": [
    {
     "data": {
      "text/plain": [
       "<AxesSubplot:xlabel='cluster'>"
      ]
     },
     "execution_count": 443,
     "metadata": {},
     "output_type": "execute_result"
    },
    {
     "data": {
      "image/png": "[encoded data removed]",
      "text/plain": [
       "<Figure size 432x288 with 1 Axes>"
      ]
     },
     "metadata": {
      "needs_background": "light"
     },
     "output_type": "display_data"
    }
   ],
   "source": [
    "sample = df_test.groupby('cluster').mean()\n",
    "sample = sample.reset_index(level=0)\n",
    "sample[sample.columns[:12]].plot(x='cluster', kind=\"bar\")"
   ]
  },
  {
   "cell_type": "code",
   "execution_count": 537,
   "id": "cc3ac8d1",
   "metadata": {},
   "outputs": [
    {
     "data": {
      "text/html": [
       "<div>\n",
       "<style scoped>\n",
       "    .dataframe tbody tr th:only-of-type {\n",
       "        vertical-align: middle;\n",
       "    }\n",
       "\n",
       "    .dataframe tbody tr th {\n",
       "        vertical-align: top;\n",
       "    }\n",
       "\n",
       "    .dataframe thead th {\n",
       "        text-align: right;\n",
       "    }\n",
       "</style>\n",
       "<table border=\"1\" class=\"dataframe\">\n",
       "  <thead>\n",
       "    <tr style=\"text-align: right;\">\n",
       "      <th></th>\n",
       "      <th>principal component 1</th>\n",
       "      <th>principal component 2</th>\n",
       "      <th>score</th>\n",
       "      <th>cluster</th>\n",
       "    </tr>\n",
       "  </thead>\n",
       "  <tbody>\n",
       "    <tr>\n",
       "      <th>0</th>\n",
       "      <td>-0.533137</td>\n",
       "      <td>-0.119791</td>\n",
       "      <td>0.508206</td>\n",
       "      <td>0</td>\n",
       "    </tr>\n",
       "    <tr>\n",
       "      <th>1</th>\n",
       "      <td>-0.529051</td>\n",
       "      <td>-0.124865</td>\n",
       "      <td>0.512062</td>\n",
       "      <td>0</td>\n",
       "    </tr>\n",
       "    <tr>\n",
       "      <th>2</th>\n",
       "      <td>-0.489806</td>\n",
       "      <td>-0.062140</td>\n",
       "      <td>0.432206</td>\n",
       "      <td>0</td>\n",
       "    </tr>\n",
       "    <tr>\n",
       "      <th>3</th>\n",
       "      <td>-0.486863</td>\n",
       "      <td>-0.052520</td>\n",
       "      <td>0.430582</td>\n",
       "      <td>0</td>\n",
       "    </tr>\n",
       "    <tr>\n",
       "      <th>4</th>\n",
       "      <td>1.158572</td>\n",
       "      <td>-0.163519</td>\n",
       "      <td>1.696781</td>\n",
       "      <td>0</td>\n",
       "    </tr>\n",
       "  </tbody>\n",
       "</table>\n",
       "</div>"
      ],
      "text/plain": [
       "   principal component 1  principal component 2     score  cluster\n",
       "0              -0.533137              -0.119791  0.508206        0\n",
       "1              -0.529051              -0.124865  0.512062        0\n",
       "2              -0.489806              -0.062140  0.432206        0\n",
       "3              -0.486863              -0.052520  0.430582        0\n",
       "4               1.158572              -0.163519  1.696781        0"
      ]
     },
     "execution_count": 537,
     "metadata": {},
     "output_type": "execute_result"
    }
   ],
   "source": [
    "pca = PCA(n_components=2)\n",
    "scaler = StandardScaler() \n",
    "df_test_scaled = scaler.fit_transform(df_test[df_test.columns[0:12]]) \n",
    "principalComponents = pca.fit_transform(df_test_scaled)\n",
    "principalDf = pd.DataFrame(data = principalComponents\n",
    "             , columns = ['principal component 1', 'principal component 2'])\n",
    "finalDf = pd.concat([principalDf, df_test[df_test.columns[12:14]]],axis = 1)\n",
    "finalDf.head()"
   ]
  },
  {
   "cell_type": "code",
   "execution_count": 445,
   "id": "530b3903",
   "metadata": {},
   "outputs": [
    {
     "data": {
      "image/png": "[encoded data removed]",
      "text/plain": [
       "<Figure size 576x576 with 1 Axes>"
      ]
     },
     "metadata": {
      "needs_background": "light"
     },
     "output_type": "display_data"
    }
   ],
   "source": [
    "fig = plt.figure(figsize = (8,8))\n",
    "ax = fig.add_subplot(1,1,1) \n",
    "ax.set_xlabel('Principal Component 1', fontsize = 15)\n",
    "ax.set_ylabel('Principal Component 2', fontsize = 15)\n",
    "ax.set_title('2 component PCA', fontsize = 20)\n",
    "targets = [0, 1]\n",
    "colors = ['g', 'r']\n",
    "for target, color in zip(targets,colors):\n",
    "    indicesToKeep = finalDf['cluster'] == target\n",
    "    ax.scatter(finalDf.loc[indicesToKeep, 'principal component 1']\n",
    "               , finalDf.loc[indicesToKeep, 'principal component 2']\n",
    "               , c = color\n",
    "               , s = 50)\n",
    "ax.legend(targets)\n",
    "ax.grid()"
   ]
  },
  {
   "cell_type": "markdown",
   "id": "b7470947",
   "metadata": {},
   "source": [
    "### Anomalies based on NACE code"
   ]
  },
  {
   "cell_type": "code",
   "execution_count": 470,
   "id": "408eb88b",
   "metadata": {},
   "outputs": [],
   "source": [
    "df.rename(columns = {\"NACE Rev. 2, core code (4 digits)\":'NACE'},inplace = True)"
   ]
  },
  {
   "cell_type": "code",
   "execution_count": 473,
   "id": "25ba19ab",
   "metadata": {},
   "outputs": [
    {
     "data": {
      "text/plain": [
       "4640.0    17640\n",
       "4720.0    15576\n",
       "5510.0    15237\n",
       "8622.0    13888\n",
       "6810.0    13547\n",
       "          ...  \n",
       "5122.0        1\n",
       "4778.0        1\n",
       "6820.0        1\n",
       "4321.0        1\n",
       "8400.0        1\n",
       "Name: NACE, Length: 741, dtype: int64"
      ]
     },
     "execution_count": 473,
     "metadata": {},
     "output_type": "execute_result"
    }
   ],
   "source": [
    "df[\"NACE\"].value_counts()"
   ]
  },
  {
   "cell_type": "code",
   "execution_count": 475,
   "id": "5c3807ea",
   "metadata": {},
   "outputs": [
    {
     "data": {
      "text/plain": [
       "741"
      ]
     },
     "execution_count": 475,
     "metadata": {},
     "output_type": "execute_result"
    }
   ],
   "source": [
    "len(df[\"NACE\"].value_counts())"
   ]
  },
  {
   "cell_type": "code",
   "execution_count": 478,
   "id": "54f34df0",
   "metadata": {},
   "outputs": [],
   "source": [
    "a = dict(df[\"NACE\"].value_counts())"
   ]
  },
  {
   "cell_type": "code",
   "execution_count": 486,
   "id": "fb70937b",
   "metadata": {},
   "outputs": [],
   "source": [
    "new_map = {}\n",
    "for i in a.keys():\n",
    "    if a[i]>10000:\n",
    "        new_map[i]=i\n",
    "    else:\n",
    "        new_map[i]=1"
   ]
  },
  {
   "cell_type": "code",
   "execution_count": 490,
   "id": "f13be5cf",
   "metadata": {},
   "outputs": [],
   "source": [
    "df.replace({\"NACE\": new_map},inplace = True)"
   ]
  },
  {
   "cell_type": "code",
   "execution_count": 495,
   "id": "3fe86804",
   "metadata": {},
   "outputs": [],
   "source": [
    "model_data = df[df.columns[1:14]]"
   ]
  },
  {
   "cell_type": "code",
   "execution_count": 503,
   "id": "046aa190",
   "metadata": {},
   "outputs": [],
   "source": [
    "X_train_pyod_new,X_test_pyod_new = train_test_split(model_data,test_size = .50,random_state =43)"
   ]
  },
  {
   "cell_type": "code",
   "execution_count": 538,
   "id": "9d3453d2",
   "metadata": {},
   "outputs": [],
   "source": [
    "finalDf[\"NACE\"]= list(X_test_pyod_new[\"NACE\"])"
   ]
  },
  {
   "cell_type": "code",
   "execution_count": 539,
   "id": "0ad5b2ce",
   "metadata": {},
   "outputs": [
    {
     "data": {
      "text/html": [
       "<div>\n",
       "<style scoped>\n",
       "    .dataframe tbody tr th:only-of-type {\n",
       "        vertical-align: middle;\n",
       "    }\n",
       "\n",
       "    .dataframe tbody tr th {\n",
       "        vertical-align: top;\n",
       "    }\n",
       "\n",
       "    .dataframe thead th {\n",
       "        text-align: right;\n",
       "    }\n",
       "</style>\n",
       "<table border=\"1\" class=\"dataframe\">\n",
       "  <thead>\n",
       "    <tr style=\"text-align: right;\">\n",
       "      <th></th>\n",
       "      <th>principal component 1</th>\n",
       "      <th>principal component 2</th>\n",
       "      <th>score</th>\n",
       "      <th>cluster</th>\n",
       "      <th>NACE</th>\n",
       "    </tr>\n",
       "  </thead>\n",
       "  <tbody>\n",
       "    <tr>\n",
       "      <th>0</th>\n",
       "      <td>-0.533137</td>\n",
       "      <td>-0.119791</td>\n",
       "      <td>0.508206</td>\n",
       "      <td>0</td>\n",
       "      <td>1</td>\n",
       "    </tr>\n",
       "    <tr>\n",
       "      <th>1</th>\n",
       "      <td>-0.529051</td>\n",
       "      <td>-0.124865</td>\n",
       "      <td>0.512062</td>\n",
       "      <td>0</td>\n",
       "      <td>1</td>\n",
       "    </tr>\n",
       "    <tr>\n",
       "      <th>2</th>\n",
       "      <td>-0.489806</td>\n",
       "      <td>-0.062140</td>\n",
       "      <td>0.432206</td>\n",
       "      <td>0</td>\n",
       "      <td>1</td>\n",
       "    </tr>\n",
       "    <tr>\n",
       "      <th>3</th>\n",
       "      <td>-0.486863</td>\n",
       "      <td>-0.052520</td>\n",
       "      <td>0.430582</td>\n",
       "      <td>0</td>\n",
       "      <td>1</td>\n",
       "    </tr>\n",
       "    <tr>\n",
       "      <th>4</th>\n",
       "      <td>1.158572</td>\n",
       "      <td>-0.163519</td>\n",
       "      <td>1.696781</td>\n",
       "      <td>0</td>\n",
       "      <td>1</td>\n",
       "    </tr>\n",
       "    <tr>\n",
       "      <th>...</th>\n",
       "      <td>...</td>\n",
       "      <td>...</td>\n",
       "      <td>...</td>\n",
       "      <td>...</td>\n",
       "      <td>...</td>\n",
       "    </tr>\n",
       "    <tr>\n",
       "      <th>664477</th>\n",
       "      <td>-0.449495</td>\n",
       "      <td>-0.026298</td>\n",
       "      <td>0.384031</td>\n",
       "      <td>0</td>\n",
       "      <td>1</td>\n",
       "    </tr>\n",
       "    <tr>\n",
       "      <th>664478</th>\n",
       "      <td>0.137363</td>\n",
       "      <td>0.113417</td>\n",
       "      <td>0.206713</td>\n",
       "      <td>0</td>\n",
       "      <td>1</td>\n",
       "    </tr>\n",
       "    <tr>\n",
       "      <th>664479</th>\n",
       "      <td>-0.148837</td>\n",
       "      <td>0.193483</td>\n",
       "      <td>0.231608</td>\n",
       "      <td>0</td>\n",
       "      <td>1</td>\n",
       "    </tr>\n",
       "    <tr>\n",
       "      <th>664480</th>\n",
       "      <td>-0.478713</td>\n",
       "      <td>-0.040223</td>\n",
       "      <td>0.418770</td>\n",
       "      <td>0</td>\n",
       "      <td>1</td>\n",
       "    </tr>\n",
       "    <tr>\n",
       "      <th>664481</th>\n",
       "      <td>-0.351741</td>\n",
       "      <td>0.179839</td>\n",
       "      <td>0.533146</td>\n",
       "      <td>0</td>\n",
       "      <td>1</td>\n",
       "    </tr>\n",
       "  </tbody>\n",
       "</table>\n",
       "<p>664482 rows × 5 columns</p>\n",
       "</div>"
      ],
      "text/plain": [
       "        principal component 1  principal component 2     score  cluster NACE\n",
       "0                   -0.533137              -0.119791  0.508206        0    1\n",
       "1                   -0.529051              -0.124865  0.512062        0    1\n",
       "2                   -0.489806              -0.062140  0.432206        0    1\n",
       "3                   -0.486863              -0.052520  0.430582        0    1\n",
       "4                    1.158572              -0.163519  1.696781        0    1\n",
       "...                       ...                    ...       ...      ...  ...\n",
       "664477              -0.449495              -0.026298  0.384031        0    1\n",
       "664478               0.137363               0.113417  0.206713        0    1\n",
       "664479              -0.148837               0.193483  0.231608        0    1\n",
       "664480              -0.478713              -0.040223  0.418770        0    1\n",
       "664481              -0.351741               0.179839  0.533146        0    1\n",
       "\n",
       "[664482 rows x 5 columns]"
      ]
     },
     "execution_count": 539,
     "metadata": {},
     "output_type": "execute_result"
    }
   ],
   "source": [
    "finalDf"
   ]
  },
  {
   "cell_type": "code",
   "execution_count": 556,
   "id": "30320a00",
   "metadata": {},
   "outputs": [],
   "source": [
    "nace_df = finalDf[[\"cluster\",\"NACE\"]]"
   ]
  },
  {
   "cell_type": "code",
   "execution_count": 560,
   "id": "4387c6d7",
   "metadata": {},
   "outputs": [],
   "source": [
    "codes = list(nace_df[\"NACE\"].unique())"
   ]
  },
  {
   "cell_type": "code",
   "execution_count": 570,
   "id": "75682536",
   "metadata": {},
   "outputs": [],
   "source": [
    "percentages = {}\n",
    "for i in codes:\n",
    "    n = dict(nace_df[\"NACE\"].value_counts())[i]\n",
    "    p = n/len(nace_df[\"NACE\"])*100\n",
    "    d = nace_df.loc[nace_df[\"NACE\"]==i]\n",
    "    try:\n",
    "        c = dict(d[\"cluster\"].value_counts())[1]\n",
    "        cluster_p = (c/d.shape[0])*100\n",
    "    except:\n",
    "        cluster_p = 0\n",
    "    \n",
    "    percentages[i]=[p,cluster_p]"
   ]
  },
  {
   "cell_type": "code",
   "execution_count": 575,
   "id": "292fe525",
   "metadata": {},
   "outputs": [],
   "source": [
    "NACE = pd.DataFrame(percentages).transpose()\n"
   ]
  },
  {
   "cell_type": "code",
   "execution_count": 576,
   "id": "12b1cb3f",
   "metadata": {},
   "outputs": [
    {
     "data": {
      "text/html": [
       "<div>\n",
       "<style scoped>\n",
       "    .dataframe tbody tr th:only-of-type {\n",
       "        vertical-align: middle;\n",
       "    }\n",
       "\n",
       "    .dataframe tbody tr th {\n",
       "        vertical-align: top;\n",
       "    }\n",
       "\n",
       "    .dataframe thead th {\n",
       "        text-align: right;\n",
       "    }\n",
       "</style>\n",
       "<table border=\"1\" class=\"dataframe\">\n",
       "  <thead>\n",
       "    <tr style=\"text-align: right;\">\n",
       "      <th></th>\n",
       "      <th>0</th>\n",
       "      <th>1</th>\n",
       "    </tr>\n",
       "  </thead>\n",
       "  <tbody>\n",
       "    <tr>\n",
       "      <th>1</th>\n",
       "      <td>82.002522</td>\n",
       "      <td>0.005506</td>\n",
       "    </tr>\n",
       "    <tr>\n",
       "      <th>4642.0</th>\n",
       "      <td>0.826508</td>\n",
       "      <td>0.000000</td>\n",
       "    </tr>\n",
       "    <tr>\n",
       "      <th>1812.0</th>\n",
       "      <td>0.775341</td>\n",
       "      <td>0.000000</td>\n",
       "    </tr>\n",
       "    <tr>\n",
       "      <th>7490.0</th>\n",
       "      <td>0.925382</td>\n",
       "      <td>0.000000</td>\n",
       "    </tr>\n",
       "    <tr>\n",
       "      <th>4720.0</th>\n",
       "      <td>1.174298</td>\n",
       "      <td>0.000000</td>\n",
       "    </tr>\n",
       "    <tr>\n",
       "      <th>8299.0</th>\n",
       "      <td>0.993405</td>\n",
       "      <td>0.000000</td>\n",
       "    </tr>\n",
       "    <tr>\n",
       "      <th>4759.0</th>\n",
       "      <td>0.913343</td>\n",
       "      <td>0.000000</td>\n",
       "    </tr>\n",
       "    <tr>\n",
       "      <th>4646.0</th>\n",
       "      <td>0.768569</td>\n",
       "      <td>0.039162</td>\n",
       "    </tr>\n",
       "    <tr>\n",
       "      <th>4932.0</th>\n",
       "      <td>0.973089</td>\n",
       "      <td>0.000000</td>\n",
       "    </tr>\n",
       "    <tr>\n",
       "      <th>7911.0</th>\n",
       "      <td>0.921319</td>\n",
       "      <td>0.000000</td>\n",
       "    </tr>\n",
       "    <tr>\n",
       "      <th>8622.0</th>\n",
       "      <td>1.043219</td>\n",
       "      <td>0.000000</td>\n",
       "    </tr>\n",
       "    <tr>\n",
       "      <th>2562.0</th>\n",
       "      <td>0.924931</td>\n",
       "      <td>0.000000</td>\n",
       "    </tr>\n",
       "    <tr>\n",
       "      <th>4640.0</th>\n",
       "      <td>1.319374</td>\n",
       "      <td>0.000000</td>\n",
       "    </tr>\n",
       "    <tr>\n",
       "      <th>3312.0</th>\n",
       "      <td>0.883395</td>\n",
       "      <td>0.000000</td>\n",
       "    </tr>\n",
       "    <tr>\n",
       "      <th>5510.0</th>\n",
       "      <td>1.144350</td>\n",
       "      <td>0.000000</td>\n",
       "    </tr>\n",
       "    <tr>\n",
       "      <th>8690.0</th>\n",
       "      <td>0.788283</td>\n",
       "      <td>0.000000</td>\n",
       "    </tr>\n",
       "    <tr>\n",
       "      <th>2511.0</th>\n",
       "      <td>0.882191</td>\n",
       "      <td>0.000000</td>\n",
       "    </tr>\n",
       "    <tr>\n",
       "      <th>1071.0</th>\n",
       "      <td>0.923878</td>\n",
       "      <td>0.000000</td>\n",
       "    </tr>\n",
       "    <tr>\n",
       "      <th>6810.0</th>\n",
       "      <td>1.025009</td>\n",
       "      <td>0.000000</td>\n",
       "    </tr>\n",
       "    <tr>\n",
       "      <th>6311.0</th>\n",
       "      <td>0.791594</td>\n",
       "      <td>0.000000</td>\n",
       "    </tr>\n",
       "  </tbody>\n",
       "</table>\n",
       "</div>"
      ],
      "text/plain": [
       "                0         1\n",
       "1       82.002522  0.005506\n",
       "4642.0   0.826508  0.000000\n",
       "1812.0   0.775341  0.000000\n",
       "7490.0   0.925382  0.000000\n",
       "4720.0   1.174298  0.000000\n",
       "8299.0   0.993405  0.000000\n",
       "4759.0   0.913343  0.000000\n",
       "4646.0   0.768569  0.039162\n",
       "4932.0   0.973089  0.000000\n",
       "7911.0   0.921319  0.000000\n",
       "8622.0   1.043219  0.000000\n",
       "2562.0   0.924931  0.000000\n",
       "4640.0   1.319374  0.000000\n",
       "3312.0   0.883395  0.000000\n",
       "5510.0   1.144350  0.000000\n",
       "8690.0   0.788283  0.000000\n",
       "2511.0   0.882191  0.000000\n",
       "1071.0   0.923878  0.000000\n",
       "6810.0   1.025009  0.000000\n",
       "6311.0   0.791594  0.000000"
      ]
     },
     "execution_count": 576,
     "metadata": {},
     "output_type": "execute_result"
    }
   ],
   "source": [
    "NACE"
   ]
  },
  {
   "cell_type": "markdown",
   "id": "c04f5148",
   "metadata": {},
   "source": [
    "## Most outlier contained category - 4646.0 - Wholesale of pharmaceutical goods "
   ]
  },
  {
   "cell_type": "code",
   "execution_count": 580,
   "id": "37b16c69",
   "metadata": {},
   "outputs": [
    {
     "name": "stdout",
     "output_type": "stream",
     "text": [
      "0.004815781315370469\n"
     ]
    }
   ],
   "source": [
    "outlier_percentage = (finalDf[\"cluster\"].value_counts()[1]/finalDf.shape[0])*100\n",
    "print(outlier_percentage)"
   ]
  },
  {
   "cell_type": "markdown",
   "id": "b42dbf59",
   "metadata": {},
   "source": [
    "## Overall outlier percentage on test data - 0.004"
   ]
  },
  {
   "cell_type": "code",
   "execution_count": null,
   "id": "6254da59",
   "metadata": {},
   "outputs": [],
   "source": []
  },
  {
   "cell_type": "code",
   "execution_count": null,
   "id": "1692bf34",
   "metadata": {},
   "outputs": [],
   "source": []
  }
 ],
 "metadata": {
  "kernelspec": {
   "display_name": "Python 3 (ipykernel)",
   "language": "python",
   "name": "python3"
  },
  "language_info": {
   "codemirror_mode": {
    "name": "ipython",
    "version": 3
   },
   "file_extension": ".py",
   "mimetype": "text/x-python",
   "name": "python",
   "nbconvert_exporter": "python",
   "pygments_lexer": "ipython3",
   "version": "3.9.7"
  }
 },
 "nbformat": 4,
 "nbformat_minor": 5
}
